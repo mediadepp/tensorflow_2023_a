{
 "cells": [
  {
   "cell_type": "markdown",
   "id": "efficient-dining",
   "metadata": {},
   "source": [
    "<font style=\"color: green\" />\n",
    "\n",
    "<center> \n",
    "    <h1>                                                        In the name of God </h1>\n",
    "</center>"
   ]
  },
  {
   "cell_type": "markdown",
   "id": "adjustable-content",
   "metadata": {},
   "source": [
    "<center>\n",
    "    <a href=\"https://biasvariance.ir\">\n",
    "        <img src=\"https://www.biasvariance.net/static/favicon.ico\" width=\"100\" alt=\"®BiasVariance logo\"  /> \n",
    "    </a>\n",
    "    <b style=\"color: green;\">®BiasVariance</b>        \n",
    "</center>"
   ]
  },
  {
   "cell_type": "code",
   "execution_count": 2,
   "id": "confidential-taiwan",
   "metadata": {
    "ExecuteTime": {
     "end_time": "2023-03-29T11:16:30.849049Z",
     "start_time": "2023-03-29T11:16:30.835052Z"
    }
   },
   "outputs": [],
   "source": [
    "import tensorflow as tf\n",
    "import numpy as np\n",
    "import os\n",
    "import pandas as pd\n",
    "import sklearn.metrics as m\n",
    "import matplotlib.pyplot as plt\n",
    "%matplotlib inline\n",
    "import seaborn "
   ]
  },
  {
   "cell_type": "markdown",
   "id": "interstate-baltimore",
   "metadata": {},
   "source": [
    "We are going to employ a subset of the popular [dogs versus cats dataset](https://www.kaggle.com/c/dogs-vs-cats/data). "
   ]
  },
  {
   "cell_type": "code",
   "execution_count": null,
   "id": "enhanced-geography",
   "metadata": {},
   "outputs": [],
   "source": [
    "# load data dataset and normalise it! "
   ]
  },
  {
   "cell_type": "code",
   "execution_count": null,
   "id": "supported-killer",
   "metadata": {},
   "outputs": [],
   "source": [
    "# You have to make a CNN classifier with functional API that accepts two input images. If  \n",
    "# they have the same labels, the output should be one, otherwise zero. So, you have to \n",
    "# prepare the dataset as well! The following xnor function can help you how to assign the \n",
    "# labels. Try to decrease the learning rate while training. "
   ]
  },
  {
   "cell_type": "code",
   "execution_count": 8,
   "id": "stylish-messenger",
   "metadata": {
    "ExecuteTime": {
     "end_time": "2023-03-29T11:17:05.759739Z",
     "start_time": "2023-03-29T11:17:05.739726Z"
    }
   },
   "outputs": [],
   "source": [
    "# 0 0 -> 1  \n",
    "# 0 1 -> 0 \n",
    "# 1 0 -> 0   \n",
    "# 1 1 -> 1 "
   ]
  },
  {
   "cell_type": "code",
   "execution_count": 6,
   "id": "critical-phenomenon",
   "metadata": {
    "ExecuteTime": {
     "end_time": "2023-03-29T11:17:04.104331Z",
     "start_time": "2023-03-29T11:17:04.091320Z"
    }
   },
   "outputs": [],
   "source": [
    "def xnor(a, b): \n",
    "    res = np.logical_not(np.logical_xor(a, b))\n",
    "    res = np.array(res, dtype=\"int\")\n",
    "    return res"
   ]
  },
  {
   "cell_type": "code",
   "execution_count": 7,
   "id": "binding-strength",
   "metadata": {
    "ExecuteTime": {
     "end_time": "2023-03-29T11:17:05.196721Z",
     "start_time": "2023-03-29T11:17:05.173686Z"
    }
   },
   "outputs": [
    {
     "data": {
      "text/plain": [
       "array([1, 0, 0, 1])"
      ]
     },
     "execution_count": 7,
     "metadata": {},
     "output_type": "execute_result"
    }
   ],
   "source": [
    "xnor([0, 1, 0, 1], \n",
    "     [0, 0, 1, 1])"
   ]
  },
  {
   "cell_type": "code",
   "execution_count": null,
   "id": "intended-payment",
   "metadata": {},
   "outputs": [],
   "source": [
    "# try to get the predictions. Can you explicitly specify the predictions of your model \n",
    "# with a threshold value? \n",
    "# Try to show the confusion matrix. I've already \n",
    "# imported something somewhere above that can help you :)"
   ]
  },
  {
   "cell_type": "code",
   "execution_count": null,
   "id": "european-cruise",
   "metadata": {},
   "outputs": [],
   "source": []
  },
  {
   "cell_type": "code",
   "execution_count": null,
   "id": "defined-bradley",
   "metadata": {},
   "outputs": [],
   "source": [
    "# plot the intermediate activations to see what your model has learnt. \n",
    "# Hint: You should make models with the desired activations as the outputs \n",
    "# of your model. "
   ]
  },
  {
   "cell_type": "code",
   "execution_count": null,
   "id": "sticky-japan",
   "metadata": {},
   "outputs": [],
   "source": []
  },
  {
   "cell_type": "code",
   "execution_count": null,
   "id": "hybrid-bread",
   "metadata": {},
   "outputs": [],
   "source": []
  },
  {
   "cell_type": "code",
   "execution_count": null,
   "id": "hairy-perspective",
   "metadata": {},
   "outputs": [],
   "source": []
  },
  {
   "cell_type": "code",
   "execution_count": null,
   "id": "copyrighted-learning",
   "metadata": {},
   "outputs": [],
   "source": []
  },
  {
   "cell_type": "code",
   "execution_count": null,
   "id": "amended-torture",
   "metadata": {},
   "outputs": [],
   "source": []
  },
  {
   "cell_type": "markdown",
   "id": "dutch-prince",
   "metadata": {},
   "source": [
    "<center>\n",
    "    <a href=\"https://biasvariance.ir\">\n",
    "        <img src=\"https://www.biasvariance.net/static/favicon.ico\" width=\"100\" alt=\"®BiasVariance logo\"  /> \n",
    "    </a>\n",
    "    <b style=\"color: green;\">®BiasVariance</b>        \n",
    "</center>"
   ]
  }
 ],
 "metadata": {
  "kernelspec": {
   "display_name": "Python 3",
   "language": "python",
   "name": "python3"
  },
  "language_info": {
   "codemirror_mode": {
    "name": "ipython",
    "version": 3
   },
   "file_extension": ".py",
   "mimetype": "text/x-python",
   "name": "python",
   "nbconvert_exporter": "python",
   "pygments_lexer": "ipython3",
   "version": "3.8.7"
  },
  "latex_envs": {
   "LaTeX_envs_menu_present": true,
   "autoclose": false,
   "autocomplete": true,
   "bibliofile": "biblio.bib",
   "cite_by": "apalike",
   "current_citInitial": 1,
   "eqLabelWithNumbers": true,
   "eqNumInitial": 1,
   "hotkeys": {
    "equation": "Ctrl-E",
    "itemize": "Ctrl-I"
   },
   "labels_anchors": false,
   "latex_user_defs": false,
   "report_style_numbering": false,
   "user_envs_cfg": false
  },
  "nbTranslate": {
   "displayLangs": [
    "fr",
    "en"
   ],
   "hotkey": "alt-t",
   "langInMainMenu": true,
   "sourceLang": "en",
   "targetLang": "fr",
   "useGoogleTranslate": true
  },
  "toc": {
   "base_numbering": 1,
   "nav_menu": {},
   "number_sections": true,
   "sideBar": true,
   "skip_h1_title": false,
   "title_cell": "Table of Contents",
   "title_sidebar": "Contents",
   "toc_cell": false,
   "toc_position": {},
   "toc_section_display": true,
   "toc_window_display": false
  },
  "varInspector": {
   "cols": {
    "lenName": 16,
    "lenType": 16,
    "lenVar": 40
   },
   "kernels_config": {
    "python": {
     "delete_cmd_postfix": "",
     "delete_cmd_prefix": "del ",
     "library": "var_list.py",
     "varRefreshCmd": "print(var_dic_list())"
    },
    "r": {
     "delete_cmd_postfix": ") ",
     "delete_cmd_prefix": "rm(",
     "library": "var_list.r",
     "varRefreshCmd": "cat(var_dic_list()) "
    }
   },
   "types_to_exclude": [
    "module",
    "function",
    "builtin_function_or_method",
    "instance",
    "_Feature"
   ],
   "window_display": false
  }
 },
 "nbformat": 4,
 "nbformat_minor": 5
}
