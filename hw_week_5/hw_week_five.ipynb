{
 "cells": [
  {
   "cell_type": "markdown",
   "id": "domestic-insulation",
   "metadata": {},
   "source": [
    "<font style=\"color: green\" />\n",
    "\n",
    "<center> \n",
    "    <h1>                                                        In the name of God </h1>\n",
    "</center>"
   ]
  },
  {
   "cell_type": "markdown",
   "id": "absent-reservation",
   "metadata": {},
   "source": [
    "<center>\n",
    "    <a href=\"https://biasvariance.ir\">\n",
    "        <img src=\"https://www.biasvariance.net/static/favicon.ico\" width=\"100\" alt=\"®BiasVariance logo\"  /> \n",
    "    </a>\n",
    "    <b style=\"color: green;\">®BiasVariance</b>        \n",
    "</center>"
   ]
  },
  {
   "cell_type": "code",
   "execution_count": null,
   "id": "2a63e3d2",
   "metadata": {
    "vscode": {
     "languageId": "plaintext"
    }
   },
   "outputs": [],
   "source": []
  },
  {
   "cell_type": "markdown",
   "id": "accomplished-camel",
   "metadata": {
    "cell_style": "center"
   },
   "source": [
    "<font style=\"color: navy\" />\n",
    "\n",
    "Please Implement **ResNet** with the model extending approach you've learnt this week. "
   ]
  },
  {
   "cell_type": "code",
   "execution_count": null,
   "id": "c51d7831",
   "metadata": {
    "vscode": {
     "languageId": "plaintext"
    }
   },
   "outputs": [],
   "source": []
  },
  {
   "cell_type": "markdown",
   "id": "protective-press",
   "metadata": {},
   "source": [
    "<center>\n",
    "    <a href=\"https://biasvariance.ir\">\n",
    "        <img src=\"https://www.biasvariance.net/static/favicon.ico\" width=\"100\" alt=\"®BiasVariance logo\"  /> \n",
    "    </a>\n",
    "    <b style=\"color: green;\">®BiasVariance</b>        \n",
    "</center>"
   ]
  }
 ],
 "metadata": {
  "kernelspec": {
   "display_name": "Python 3",
   "language": "python",
   "name": "python3"
  },
  "language_info": {
   "codemirror_mode": {
    "name": "ipython",
    "version": 3
   },
   "file_extension": ".py",
   "mimetype": "text/x-python",
   "name": "python",
   "nbconvert_exporter": "python",
   "pygments_lexer": "ipython3",
   "version": "3.8.7"
  },
  "latex_envs": {
   "LaTeX_envs_menu_present": true,
   "autoclose": false,
   "autocomplete": true,
   "bibliofile": "biblio.bib",
   "cite_by": "apalike",
   "current_citInitial": 1,
   "eqLabelWithNumbers": true,
   "eqNumInitial": 1,
   "hotkeys": {
    "equation": "Ctrl-E",
    "itemize": "Ctrl-I"
   },
   "labels_anchors": false,
   "latex_user_defs": false,
   "report_style_numbering": false,
   "user_envs_cfg": false
  },
  "nbTranslate": {
   "displayLangs": [
    "fr",
    "en"
   ],
   "hotkey": "alt-t",
   "langInMainMenu": true,
   "sourceLang": "en",
   "targetLang": "fr",
   "useGoogleTranslate": true
  },
  "toc": {
   "base_numbering": 1,
   "nav_menu": {},
   "number_sections": true,
   "sideBar": true,
   "skip_h1_title": false,
   "title_cell": "Table of Contents",
   "title_sidebar": "Contents",
   "toc_cell": false,
   "toc_position": {},
   "toc_section_display": true,
   "toc_window_display": false
  },
  "varInspector": {
   "cols": {
    "lenName": 16,
    "lenType": 16,
    "lenVar": 40
   },
   "kernels_config": {
    "python": {
     "delete_cmd_postfix": "",
     "delete_cmd_prefix": "del ",
     "library": "var_list.py",
     "varRefreshCmd": "print(var_dic_list())"
    },
    "r": {
     "delete_cmd_postfix": ") ",
     "delete_cmd_prefix": "rm(",
     "library": "var_list.r",
     "varRefreshCmd": "cat(var_dic_list()) "
    }
   },
   "types_to_exclude": [
    "module",
    "function",
    "builtin_function_or_method",
    "instance",
    "_Feature"
   ],
   "window_display": false
  }
 },
 "nbformat": 4,
 "nbformat_minor": 5
}
