{
 "cells": [
  {
   "cell_type": "markdown",
   "id": "efficient-dining",
   "metadata": {},
   "source": [
    "<font style=\"color: green\" />\n",
    "\n",
    "<center> \n",
    "    <h1>                                                        In the name of God </h1>\n",
    "</center>"
   ]
  },
  {
   "cell_type": "markdown",
   "id": "adjustable-content",
   "metadata": {},
   "source": [
    "<center>\n",
    "    <a href=\"https://biasvariance.ir\">\n",
    "        <img src=\"https://www.biasvariance.net/static/favicon.ico\" width=\"100\" alt=\"cognitiveclass.ai logo\"  /> \n",
    "    </a>\n",
    "</center>"
   ]
  },
  {
   "cell_type": "markdown",
   "id": "residential-salmon",
   "metadata": {},
   "source": [
    "In this notebook, we will try to find out how some important callbacks work in Tensorflow. As the homework, I want you to use learning rate scheduler callback in the training process. Moreover, you are supposed to utilise early stopping as another scheduler. Based on the video lectures of this week and the provided documentation by the keras, you can simply employ the mentioned callbacks. \n",
    "\n",
    "Good Luck! ;)"
   ]
  },
  {
   "cell_type": "markdown",
   "id": "dutch-prince",
   "metadata": {},
   "source": [
    "<center>\n",
    "    <a href=\"https://biasvariance.ir\">\n",
    "        <img src=\"https://www.biasvariance.net/static/favicon.ico\" width=\"100\" alt=\"cognitiveclass.ai logo\"  /> \n",
    "    </a>\n",
    "    <b style=\"color: navy\">®BiasVariance</b>        \n",
    "</center>"
   ]
  }
 ],
 "metadata": {
  "kernelspec": {
   "display_name": "Python 3",
   "language": "python",
   "name": "python3"
  },
  "language_info": {
   "codemirror_mode": {
    "name": "ipython",
    "version": 3
   },
   "file_extension": ".py",
   "mimetype": "text/x-python",
   "name": "python",
   "nbconvert_exporter": "python",
   "pygments_lexer": "ipython3",
   "version": "3.8.7"
  },
  "varInspector": {
   "cols": {
    "lenName": 16,
    "lenType": 16,
    "lenVar": 40
   },
   "kernels_config": {
    "python": {
     "delete_cmd_postfix": "",
     "delete_cmd_prefix": "del ",
     "library": "var_list.py",
     "varRefreshCmd": "print(var_dic_list())"
    },
    "r": {
     "delete_cmd_postfix": ") ",
     "delete_cmd_prefix": "rm(",
     "library": "var_list.r",
     "varRefreshCmd": "cat(var_dic_list()) "
    }
   },
   "types_to_exclude": [
    "module",
    "function",
    "builtin_function_or_method",
    "instance",
    "_Feature"
   ],
   "window_display": false
  }
 },
 "nbformat": 4,
 "nbformat_minor": 5
}
