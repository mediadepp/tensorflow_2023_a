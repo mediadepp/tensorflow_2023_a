{
 "cells": [
  {
   "cell_type": "markdown",
   "id": "efficient-dining",
   "metadata": {},
   "source": [
    "<font style=\"color: green\" />\n",
    "\n",
    "<center> \n",
    "    <h1>                                                        In the name of God </h1>\n",
    "</center>"
   ]
  },
  {
   "cell_type": "markdown",
   "id": "adjustable-content",
   "metadata": {},
   "source": [
    "<center>\n",
    "    <a href=\"https://biasvariance.ir\">\n",
    "        <img src=\"https://www.biasvariance.net/static/favicon.ico\" width=\"100\" alt=\"®BiasVariance logo\"  /> \n",
    "    </a>\n",
    "    <b style=\"color: green;\">®BiasVariance</b>        \n",
    "</center>"
   ]
  },
  {
   "cell_type": "markdown",
   "id": "residential-salmon",
   "metadata": {},
   "source": [
    "In this notebook, we will try to find out how some important callbacks work in Tensorflow. As the homework, I want you to use learning rate scheduler callback in the training process. Moreover, you are supposed to utilise early stopping as another scheduler. Based on the video lectures of this week and the provided documentation by the keras, you can simply employ the mentioned callbacks. \n",
    "\n",
    "Good Luck! ;)"
   ]
  },
  {
   "cell_type": "code",
   "execution_count": null,
   "id": "accepting-introduction",
   "metadata": {},
   "outputs": [],
   "source": [
    "import matplotlib.pyplot as plt\n",
    "import numpy as np\n",
    "import os\n",
    "import pandas as pd\n",
    "import sklearn.model_selection as ms\n",
    "import tensorflow as tf\n",
    "import tensorflow.keras.backend as K\n",
    "from tensorflow.keras.layers import (\n",
    "    BatchNormalization, \n",
    "    Conv2D, \n",
    "    Dense, \n",
    "    Dropout, \n",
    "    Flatten, \n",
    "    MaxPool2D, \n",
    ")\n",
    "from tensorflow.keras.models import Sequential \n",
    "from tensorflow.keras.regularizers import L1, L2, L1L2\n",
    "import tensorflow.keras.utils as utils\n",
    "from utility import create_and_train_bn, my_plot"
   ]
  },
  {
   "cell_type": "code",
   "execution_count": null,
   "id": "exceptional-vulnerability",
   "metadata": {},
   "outputs": [],
   "source": []
  },
  {
   "cell_type": "code",
   "execution_count": null,
   "id": "auburn-prevention",
   "metadata": {},
   "outputs": [],
   "source": []
  },
  {
   "cell_type": "code",
   "execution_count": null,
   "id": "preliminary-provincial",
   "metadata": {},
   "outputs": [],
   "source": []
  },
  {
   "cell_type": "markdown",
   "id": "dutch-prince",
   "metadata": {},
   "source": [
    "<center>\n",
    "    <a href=\"https://biasvariance.ir\">\n",
    "        <img src=\"https://www.biasvariance.net/static/favicon.ico\" width=\"100\" alt=\"®BiasVariance logo\"  /> \n",
    "    </a>\n",
    "    <b style=\"color: green;\">®BiasVariance</b>        \n",
    "</center>"
   ]
  }
 ],
 "metadata": {
  "kernelspec": {
   "display_name": "Python 3",
   "language": "python",
   "name": "python3"
  },
  "language_info": {
   "codemirror_mode": {
    "name": "ipython",
    "version": 3
   },
   "file_extension": ".py",
   "mimetype": "text/x-python",
   "name": "python",
   "nbconvert_exporter": "python",
   "pygments_lexer": "ipython3",
   "version": "3.8.7"
  },
  "latex_envs": {
   "LaTeX_envs_menu_present": true,
   "autoclose": false,
   "autocomplete": true,
   "bibliofile": "biblio.bib",
   "cite_by": "apalike",
   "current_citInitial": 1,
   "eqLabelWithNumbers": true,
   "eqNumInitial": 1,
   "hotkeys": {
    "equation": "Ctrl-E",
    "itemize": "Ctrl-I"
   },
   "labels_anchors": false,
   "latex_user_defs": false,
   "report_style_numbering": false,
   "user_envs_cfg": false
  },
  "nbTranslate": {
   "displayLangs": [
    "fr",
    "en"
   ],
   "hotkey": "alt-t",
   "langInMainMenu": true,
   "sourceLang": "en",
   "targetLang": "fr",
   "useGoogleTranslate": true
  },
  "toc": {
   "base_numbering": 1,
   "nav_menu": {},
   "number_sections": true,
   "sideBar": true,
   "skip_h1_title": false,
   "title_cell": "Table of Contents",
   "title_sidebar": "Contents",
   "toc_cell": false,
   "toc_position": {},
   "toc_section_display": true,
   "toc_window_display": false
  },
  "varInspector": {
   "cols": {
    "lenName": 16,
    "lenType": 16,
    "lenVar": 40
   },
   "kernels_config": {
    "python": {
     "delete_cmd_postfix": "",
     "delete_cmd_prefix": "del ",
     "library": "var_list.py",
     "varRefreshCmd": "print(var_dic_list())"
    },
    "r": {
     "delete_cmd_postfix": ") ",
     "delete_cmd_prefix": "rm(",
     "library": "var_list.r",
     "varRefreshCmd": "cat(var_dic_list()) "
    }
   },
   "types_to_exclude": [
    "module",
    "function",
    "builtin_function_or_method",
    "instance",
    "_Feature"
   ],
   "window_display": false
  }
 },
 "nbformat": 4,
 "nbformat_minor": 5
}
