{
 "cells": [
  {
   "cell_type": "markdown",
   "id": "domestic-insulation",
   "metadata": {},
   "source": [
    "<font style=\"color: green\" />\n",
    "\n",
    "<center> \n",
    "    <h1>                                                        In the name of God </h1>\n",
    "</center>"
   ]
  },
  {
   "cell_type": "markdown",
   "id": "absent-reservation",
   "metadata": {},
   "source": [
    "<center>\n",
    "    <a href=\"https://biasvariance.ir\">\n",
    "        <img src=\"https://www.biasvariance.net/static/favicon.ico\" width=\"100\" alt=\"cognitiveclass.ai logo\"  /> \n",
    "    </a>\n",
    "</center>"
   ]
  },
  {
   "cell_type": "markdown",
   "id": "known-transsexual",
   "metadata": {},
   "source": [
    "<font style=\"color: navy\" />\n",
    "\n",
    "**Try to load data from cifar100 dataset based on what you've learnt in the videos, and try to answer the following question:**\n",
    "\n",
    "> *You should answer based on the documentation.*\n",
    "\n",
    " - How much data do we have in total? \n",
    " - How should you deal with the extracted data?! \n",
    "     - How the train and test data should be taken from the callables that are provided? \n",
    " - What is the type of `tf.keras.datasets.cifar100`?"
   ]
  },
  {
   "cell_type": "code",
   "execution_count": null,
   "id": "funded-december",
   "metadata": {},
   "outputs": [],
   "source": []
  },
  {
   "cell_type": "markdown",
   "id": "reduced-width",
   "metadata": {},
   "source": [
    "<font style=\"color: navy\" />\n",
    "\n",
    "**One of the necessary parts of dealing with datasets is to normalize them. Normalize train and test datasets.** \n",
    "\n",
    "> *You can search on the web to answer the following questions.* \n",
    "\n",
    " - Search and find the exact reason why we should normalize our dataset. \n",
    " - What is the effect of normalization on the cost function? \n",
    " - Can you elaborate on what the difference is between normalization and standardization? \n",
    " - In the lecture videos, we demonstrated that you can simply have a division by the max value. Name other methods and their approach. \n",
    " - For what kind of problems we demand to normalize the output? "
   ]
  },
  {
   "cell_type": "code",
   "execution_count": null,
   "id": "prescription-slovenia",
   "metadata": {},
   "outputs": [],
   "source": []
  },
  {
   "cell_type": "markdown",
   "id": "atlantic-knight",
   "metadata": {},
   "source": [
    "<font style=\"color: navy\" />\n",
    "\n",
    "**Try to make a CNN network with the following specifications:**\n",
    "\n",
    " - A flatten layer with the appropriate input_shape based on the dimensions of the inputs. \n",
    " - 3 two dimensional convolutional layers with kernel size $3 \\times 3$. The number of filters should be `16` for each conv layer. `SAME` padding. Set stride to one. \n",
    " - Use a $2\\times2$ max pooling layer. Set stride to `2`. \n",
    " - Use 3 two dimensional conv layers with kernel size $3\\times3$. Set the number of filters to `32` for each conv layer. Use the `SAME` padding. Set stride to one.\n",
    " - Use flatten layer. Note that you should not specify the `input_shape` here anymore. This is not the first layer. This layer just tries to unroll its input. \n",
    " - Use two dense layers with `256` neurons. \n",
    " - Use a dense layer with the number of classes in the dataset as the number of neurons in this layer. Use softmax as the nonlinearity.  \n",
    " - For all layers, try to use `truncated_normal` as the initializer of the kernels, and use the constant zero for all bias terms. \n",
    " - For all layers except the last one, try to employ `PRELU` activation. \n",
    " \n",
    "**Try to answer the following questions:**\n",
    "\n",
    "> *You can search on the web to ansewr the following questions.*\n",
    "\n",
    " - What is the difference between `random_noraml` and `truncated_normal`? \n",
    " - Try to explain what the following activations are and what their difference is. \n",
    "     - `elu`\n",
    "     - `leaky_relu`\n",
    "     - `prelu`\n",
    " - One of the design principles of CNNs is the idea that by going deeper in the network, the height and width of feature maps should be declined whilst the size of channels should increase. Can you say its effect? (Hint: receptive field and number of calculations).  \n",
    " - Can you say why CNNs usually have two fully connected layers before the last layer? "
   ]
  },
  {
   "cell_type": "code",
   "execution_count": null,
   "id": "cooperative-position",
   "metadata": {},
   "outputs": [],
   "source": []
  },
  {
   "cell_type": "markdown",
   "id": "fewer-anniversary",
   "metadata": {},
   "source": [
    "<font style=\"color: navy\" />\n",
    "\n",
    "**Try to print the model summary.**\n",
    "\n",
    " - Can you explicitly say how the parameters and shapes are found in the summary? Try to do so.\n"
   ]
  },
  {
   "cell_type": "code",
   "execution_count": null,
   "id": "twelve-participant",
   "metadata": {},
   "outputs": [],
   "source": []
  },
  {
   "cell_type": "markdown",
   "id": "accomplished-camel",
   "metadata": {
    "cell_style": "center"
   },
   "source": [
    "<font style=\"color: navy\" />\n",
    "\n",
    "**Try to compile the model with the following details:**\n",
    " - Use `RMSProp` optimizer. Try to manipulate some of the *hyperparameters* of the approach like `learning_rate`. \n",
    " - Use `SparseCategoricalCrossentropy` as the loss function. \n",
    " - Use `SparseCategoricalAccuracy` as the metric. \n"
   ]
  },
  {
   "cell_type": "code",
   "execution_count": null,
   "id": "worse-straight",
   "metadata": {},
   "outputs": [],
   "source": []
  },
  {
   "cell_type": "markdown",
   "id": "right-history",
   "metadata": {},
   "source": [
    "<font style=\"color: navy\" />\n",
    "\n",
    "**Try to fit, evaluate, predict and depict based on what you've learnt.**"
   ]
  },
  {
   "cell_type": "code",
   "execution_count": null,
   "id": "psychological-chamber",
   "metadata": {},
   "outputs": [],
   "source": []
  },
  {
   "cell_type": "code",
   "execution_count": null,
   "id": "unable-blame",
   "metadata": {},
   "outputs": [],
   "source": []
  },
  {
   "cell_type": "code",
   "execution_count": null,
   "id": "unusual-diving",
   "metadata": {},
   "outputs": [],
   "source": []
  },
  {
   "cell_type": "code",
   "execution_count": null,
   "id": "descending-tribune",
   "metadata": {},
   "outputs": [],
   "source": []
  },
  {
   "cell_type": "code",
   "execution_count": null,
   "id": "nervous-peeing",
   "metadata": {},
   "outputs": [],
   "source": []
  },
  {
   "cell_type": "markdown",
   "id": "hearing-polyester",
   "metadata": {
    "cell_style": "split"
   },
   "source": [
    "One of the things about deep learning is that you usually need GPU to train your model. It's not important where you live. They are expensive. One possible solution can be utilizing [Google Colaboratory](https://colab.research.google.com/notebooks/welcome.ipynb). Check the link. It has a lot of nice instructions. \n",
    "\n",
    "One of the things that may bother you is the demand to have stable connection to colab. You may want to check out [this extension](https://chrome.google.com/webstore/detail/colab-alive/eookkckfbbgnhdgcbfbicoahejkdoele?hl=en-GB). 😃\n",
    "\n",
    "Keep calm and drink a cup of Chaaee! "
   ]
  },
  {
   "cell_type": "markdown",
   "id": "identified-instruction",
   "metadata": {
    "cell_style": "split"
   },
   "source": [
    "<font style=\"color: darkgreen\" />\n",
    "\n",
    "**At the end of this lab, you can check the following helpful links to know more about Tensorflow. I encourage you to check them all :)**\n",
    "\n",
    " - [TF echosystem](https://www.tensorflow.org/learn) \n",
    " - [TF extended](https://www.tensorflow.org/tfx/) \n",
    " - [TF lite](https://www.tensorflow.org/lite/) \n",
    " - [TF and javascript](https://www.tensorflow.org/js) "
   ]
  },
  {
   "cell_type": "markdown",
   "id": "protective-press",
   "metadata": {},
   "source": [
    "<center>\n",
    "    <a href=\"https://biasvariance.ir\">\n",
    "        <img src=\"https://www.biasvariance.net/static/favicon.ico\" width=\"100\" alt=\"cognitiveclass.ai logo\"  /> \n",
    "    </a>\n",
    "    <b style=\"color: navy\">®BiasVariance</b>        \n",
    "</center>"
   ]
  }
 ],
 "metadata": {
  "kernelspec": {
   "display_name": "Python 3",
   "language": "python",
   "name": "python3"
  },
  "language_info": {
   "codemirror_mode": {
    "name": "ipython",
    "version": 3
   },
   "file_extension": ".py",
   "mimetype": "text/x-python",
   "name": "python",
   "nbconvert_exporter": "python",
   "pygments_lexer": "ipython3",
   "version": "3.8.7"
  },
  "varInspector": {
   "cols": {
    "lenName": 16,
    "lenType": 16,
    "lenVar": 40
   },
   "kernels_config": {
    "python": {
     "delete_cmd_postfix": "",
     "delete_cmd_prefix": "del ",
     "library": "var_list.py",
     "varRefreshCmd": "print(var_dic_list())"
    },
    "r": {
     "delete_cmd_postfix": ") ",
     "delete_cmd_prefix": "rm(",
     "library": "var_list.r",
     "varRefreshCmd": "cat(var_dic_list()) "
    }
   },
   "types_to_exclude": [
    "module",
    "function",
    "builtin_function_or_method",
    "instance",
    "_Feature"
   ],
   "window_display": false
  }
 },
 "nbformat": 4,
 "nbformat_minor": 5
}
